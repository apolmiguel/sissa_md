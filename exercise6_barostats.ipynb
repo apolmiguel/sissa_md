{
 "cells": [
  {
   "cell_type": "code",
   "execution_count": 1,
   "metadata": {},
   "outputs": [],
   "source": [
    "import numpy as np\n",
    "import matplotlib.pyplot as plt\n",
    "import simplemd"
   ]
  },
  {
   "cell_type": "markdown",
   "metadata": {},
   "source": [
    "# A. Implement in simpleMD a Monte Carlo barostat.\n",
    "\n",
    "You can place it at the end of the loop (after the second velocity update) as follows,\n",
    "* scale cell and positions with an appropriate random factor.\n",
    "* recompute total energy.\n",
    "* accept or reject the move.\n",
    "\n",
    "As a test system you can use the LJ crystal that you have in the examples."
   ]
  },
  {
   "cell_type": "markdown",
   "metadata": {},
   "source": [
    "## LJ run parameters "
   ]
  },
  {
   "cell_type": "code",
   "execution_count": null,
   "metadata": {},
   "outputs": [],
   "source": [
    "'''\n",
    "from __init__.py\n",
    "Main MD loop - Langevin thermostat & Velocity Verlet integrator\n",
    "\n",
    "1. thermostat (1)\n",
    "2. update velocities (1)\n",
    "3. update positions \n",
    "4. eventually recompute neighbor list\n",
    "5. compute forces \n",
    "6. update velocities\n",
    "7. thermostat (1)\n",
    "8. readout\n",
    "\n",
    "\n",
    "'''\n",
    "\n"
   ]
  },
  {
   "cell_type": "code",
   "execution_count": 3,
   "metadata": {},
   "outputs": [
    {
     "name": "stdout",
     "output_type": "stream",
     "text": [
      "(108, 3)\n",
      "(5.0388, 5.0388, 5.0388)\n"
     ]
    }
   ],
   "source": [
    "# 1. creates box and coordinates\n",
    "cells, positions = simplemd.generate_lattice(3)\n",
    "\n",
    "# Lennard-Jones units\n",
    "print(positions.shape)\n",
    "print(cells)"
   ]
  },
  {
   "cell_type": "code",
   "execution_count": null,
   "metadata": {},
   "outputs": [],
   "source": [
    "# no initial coordinates\n",
    "keys={\n",
    "'temperature': 0.722,\n",
    "'tstep': 0.005,\n",
    "'forcecutoff': 2.5,\n",
    "'listcutoff': 3.0,\n",
    "'nstep': 2000,\n",
    "'nconfig': 10,\n",
    "'nstat': 10,\n",
    "}\n",
    "\n",
    "keys['cell'] = cells\n",
    "keys['positions'] = positions"
   ]
  },
  {
   "cell_type": "code",
   "execution_count": null,
   "metadata": {},
   "outputs": [
    {
     "name": "stderr",
     "output_type": "stream",
     "text": [
      "100%|██████████████████████████████████████████████████████████████████████████████████████████████████████████████████████████████████████████| 2000/2000 [00:00<00:00, 13437.60it/s]\n"
     ]
    }
   ],
   "source": [
    "# solution 3.\n",
    "# create runner\n",
    "smd=simplemd.SimpleMD(**keys)\n",
    "# run\n",
    "smd.run()"
   ]
  },
  {
   "cell_type": "markdown",
   "metadata": {},
   "source": [
    "# B. Compute the average volume for different values of the external pressure."
   ]
  },
  {
   "cell_type": "markdown",
   "metadata": {},
   "source": [
    "# C. Implement long range corrections (isotropic) in the calculation of the total energy."
   ]
  },
  {
   "cell_type": "markdown",
   "metadata": {},
   "source": [
    "# D. Compute the average volume at a given external pressure for different values of the force cutoff.\n",
    "\n",
    "Try to do the calculation with and without long-range corrections and verify which of the two calculations is more sensitive to the value of the force cutoff."
   ]
  },
  {
   "cell_type": "markdown",
   "metadata": {},
   "source": [
    "# E. Think about the algorithm for the update of the neighbor list. \n",
    "\n",
    "Is it valid also when using the barostat? If not, how should it be changed?"
   ]
  },
  {
   "cell_type": "markdown",
   "metadata": {},
   "source": []
  }
 ],
 "metadata": {
  "kernelspec": {
   "display_name": "sismd_venv",
   "language": "python",
   "name": "python3"
  },
  "language_info": {
   "codemirror_mode": {
    "name": "ipython",
    "version": 3
   },
   "file_extension": ".py",
   "mimetype": "text/x-python",
   "name": "python",
   "nbconvert_exporter": "python",
   "pygments_lexer": "ipython3",
   "version": "3.10.10"
  }
 },
 "nbformat": 4,
 "nbformat_minor": 2
}
