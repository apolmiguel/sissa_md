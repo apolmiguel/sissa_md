{
 "cells": [
  {
   "cell_type": "code",
   "execution_count": 2,
   "metadata": {},
   "outputs": [],
   "source": [
    "import numpy as np\n",
    "import matplotlib.pyplot as plt\n",
    "import simplemd"
   ]
  },
  {
   "cell_type": "markdown",
   "metadata": {},
   "source": [
    "# A. Implement in simpleMD a Monte Carlo barostat.\n",
    "\n",
    "You can place it at the end of the loop (after the second velocity update) as follows,\n",
    "* scale cell and positions with an appropriate random factor.\n",
    "* recompute total energy.\n",
    "* accept or reject the move.\n",
    "\n",
    "As a test system you can use the LJ crystal that you have in the examples."
   ]
  },
  {
   "cell_type": "markdown",
   "metadata": {},
   "source": [
    "# B. Compute the average volume for different values of the external pressure."
   ]
  },
  {
   "cell_type": "markdown",
   "metadata": {},
   "source": [
    "# C. Implement long range corrections (isotropic) in the calculation of the total energy."
   ]
  },
  {
   "cell_type": "markdown",
   "metadata": {},
   "source": [
    "# D. Compute the average volume at a given external pressure for different values of the force cutoff.\n",
    "\n",
    "Try to do the calculation with and without long-range corrections and verify which of the two calculations is more sensitive to the value of the force cutoff."
   ]
  },
  {
   "cell_type": "markdown",
   "metadata": {},
   "source": [
    "# E. Think about the algorithm for the update of the neighbor list. \n",
    "\n",
    "Is it valid also when using the barostat? If not, how should it be changed?"
   ]
  },
  {
   "cell_type": "markdown",
   "metadata": {},
   "source": []
  }
 ],
 "metadata": {
  "kernelspec": {
   "display_name": "sismd_venv",
   "language": "python",
   "name": "python3"
  },
  "language_info": {
   "codemirror_mode": {
    "name": "ipython",
    "version": 3
   },
   "file_extension": ".py",
   "mimetype": "text/x-python",
   "name": "python",
   "nbconvert_exporter": "python",
   "pygments_lexer": "ipython3",
   "version": "3.10.10"
  }
 },
 "nbformat": 4,
 "nbformat_minor": 2
}
